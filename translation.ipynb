{
 "cells": [
  {
   "cell_type": "code",
   "execution_count": 1,
   "metadata": {},
   "outputs": [
    {
     "name": "stderr",
     "output_type": "stream",
     "text": [
      "c:\\Users\\hafiz.zafar\\Desktop\\Python AI\\Translation\\venv\\Lib\\site-packages\\tqdm\\auto.py:21: TqdmWarning: IProgress not found. Please update jupyter and ipywidgets. See https://ipywidgets.readthedocs.io/en/stable/user_install.html\n",
      "  from .autonotebook import tqdm as notebook_tqdm\n",
      "c:\\Users\\hafiz.zafar\\Desktop\\Python AI\\Translation\\venv\\Lib\\site-packages\\transformers\\models\\marian\\tokenization_marian.py:175: UserWarning: Recommended: pip install sacremoses.\n",
      "  warnings.warn(\"Recommended: pip install sacremoses.\")\n",
      "Device set to use cpu\n"
     ]
    },
    {
     "name": "stdout",
     "output_type": "stream",
     "text": [
      "Translation using Helsinki-NLP/opus-mt-en-ar: مرحباً، كيف حالك؟\n"
     ]
    },
    {
     "name": "stderr",
     "output_type": "stream",
     "text": [
      "Device set to use cpu\n"
     ]
    },
    {
     "name": "stdout",
     "output_type": "stream",
     "text": [
      "Translation using facebook/m2m100_418M: مرحبا، كيف حالك؟\n"
     ]
    }
   ],
   "source": [
    "# Import necessary libraries\n",
    "from transformers import pipeline\n",
    "import torch\n",
    "\n",
    "# Define a function to translate text using multiple models\n",
    "def translate_text(text, model_name):\n",
    "    if model_name == \"Helsinki-NLP/opus-mt-en-ar\":\n",
    "        translator = pipeline(\"translation_en_to_ar\", model=model_name)\n",
    "    elif model_name == \"facebook/m2m100_418M\":\n",
    "        translator = pipeline(\"translation\", model=model_name, src_lang=\"en\", tgt_lang=\"ar\")\n",
    "    else:\n",
    "        raise ValueError(\"Unsupported model name\")\n",
    "    \n",
    "    translation = translator(text)\n",
    "    return translation[0]['translation_text']\n",
    "\n",
    "# Example usage\n",
    "text_to_translate = \"Hello, how are you?\"\n",
    "models = [\"Helsinki-NLP/opus-mt-en-ar\", \"facebook/m2m100_418M\"]\n",
    "\n",
    "for model in models:\n",
    "    translated_text = translate_text(text_to_translate, model)\n",
    "    print(f\"Translation using {model}: {translated_text}\")"
   ]
  }
 ],
 "metadata": {
  "kernelspec": {
   "display_name": "Python 3",
   "language": "python",
   "name": "python3"
  },
  "language_info": {
   "codemirror_mode": {
    "name": "ipython",
    "version": 3
   },
   "file_extension": ".py",
   "mimetype": "text/x-python",
   "name": "python",
   "nbconvert_exporter": "python",
   "pygments_lexer": "ipython3",
   "version": "3.12.0"
  }
 },
 "nbformat": 4,
 "nbformat_minor": 2
}
