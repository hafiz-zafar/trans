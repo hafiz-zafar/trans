{
 "cells": [
  {
   "cell_type": "code",
   "execution_count": 3,
   "metadata": {},
   "outputs": [
    {
     "name": "stderr",
     "output_type": "stream",
     "text": [
      "Device set to use cpu\n"
     ]
    },
    {
     "name": "stdout",
     "output_type": "stream",
     "text": [
      "Translated Text: مرحباً، كيف حالك؟\n"
     ]
    },
    {
     "name": "stderr",
     "output_type": "stream",
     "text": [
      "Device set to use cpu\n"
     ]
    },
    {
     "name": "stdout",
     "output_type": "stream",
     "text": [
      "Translated Text: Hey, how are you?\n"
     ]
    }
   ],
   "source": [
    "# Import necessary libraries\n",
    "from transformers import pipeline\n",
    "\n",
    "# Define a function for bidirectional translation using a selected model\n",
    "def translate_text(text, model_name, src_lang=\"en\", tgt_lang=\"ar\"):\n",
    "    if model_name == \"Helsinki-NLP/opus-mt-en-ar\":\n",
    "        translator = pipeline(\"translation_en_to_ar\", model=model_name)\n",
    "    elif model_name == \"Helsinki-NLP/opus-mt-ar-en\":\n",
    "        translator = pipeline(\"translation_ar_to_en\", model=model_name)\n",
    "    elif model_name == \"facebook/m2m100_418M\":\n",
    "        translator = pipeline(\"translation\", model=model_name, src_lang=src_lang, tgt_lang=tgt_lang)\n",
    "    else:\n",
    "        raise ValueError(\"Unsupported model name\")\n",
    "\n",
    "    translation = translator(text)\n",
    "    return translation[0]['translation_text']\n",
    "\n",
    "# Example usage\n",
    "text_to_translate = \"Hello, how are you?\"\n",
    "model_name = \"Helsinki-NLP/opus-mt-en-ar\"  # Choose the model\n",
    "translated_text = translate_text(text_to_translate, model_name)\n",
    "print(f\"Translated Text: {translated_text}\")\n",
    "\n",
    "text_to_translate = \"مرحبا، كيف حالك؟\"\n",
    "model_name = \"Helsinki-NLP/opus-mt-ar-en\"  # Choose the model\n",
    "translated_text = translate_text(text_to_translate, model_name)\n",
    "print(f\"Translated Text: {translated_text}\")"
   ]
  }
 ],
 "metadata": {
  "kernelspec": {
   "display_name": "Python 3",
   "language": "python",
   "name": "python3"
  },
  "language_info": {
   "codemirror_mode": {
    "name": "ipython",
    "version": 3
   },
   "file_extension": ".py",
   "mimetype": "text/x-python",
   "name": "python",
   "nbconvert_exporter": "python",
   "pygments_lexer": "ipython3",
   "version": "3.12.0"
  }
 },
 "nbformat": 4,
 "nbformat_minor": 2
}
